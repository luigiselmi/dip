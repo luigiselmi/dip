{
 "cells": [
  {
   "cell_type": "markdown",
   "metadata": {},
   "source": [
    "# Digital Image Processing Functions"
   ]
  },
  {
   "cell_type": "code",
   "execution_count": 1,
   "metadata": {},
   "outputs": [],
   "source": [
    "import numpy as np\n",
    "import math"
   ]
  },
  {
   "cell_type": "markdown",
   "metadata": {},
   "source": [
    "## Edge detection"
   ]
  },
  {
   "cell_type": "code",
   "execution_count": 2,
   "metadata": {},
   "outputs": [],
   "source": [
    "def dip_horizontalDerivative(image):\n",
    "    # Computes the first horizontal derivative of the intensity \n",
    "    # at each pixel in the image. \n",
    "    rows = image.shape[0]\n",
    "    cols = image.shape[1]\n",
    "    Hx = np.array([-1, 0, 1])\n",
    "    derived_img = np.zeros((rows, cols), dtype=int)\n",
    "    \n",
    "    for col in range(0, cols - 1):\n",
    "        for row in range(0, rows - 1):\n",
    "            h_derivative = 0\n",
    "            for j in range(-1, 2):\n",
    "                    v = image[row, col + j]  \n",
    "                    h_derivative = h_derivative + (1 / 2) * v * Hx[j + 1]\n",
    "            derived_img[row, col] = h_derivative\n",
    "    \n",
    "    return derived_img"
   ]
  },
  {
   "cell_type": "code",
   "execution_count": 3,
   "metadata": {},
   "outputs": [],
   "source": [
    "def dip_verticalDerivative(image):\n",
    "    # Computes the first vertical derivative of the intensity \n",
    "    # at each pixel in the image.\n",
    "    rows = image.shape[0]\n",
    "    cols = image.shape[1]\n",
    "    Hy = np.array([-1, 0, 1])\n",
    "    derived_img = np.zeros((rows, cols), dtype=int)\n",
    "    \n",
    "    for col in range(0, cols - 1):\n",
    "        for row in range(0, rows - 1):\n",
    "            v_derivative = 0\n",
    "            for i in range(-1, 2):\n",
    "                    v = image[row + i, col]  \n",
    "                    v_derivative = v_derivative + (1 / 2) * v * Hy[i + 1]\n",
    "            derived_img[row, col] = v_derivative\n",
    "    \n",
    "    return derived_img"
   ]
  },
  {
   "cell_type": "code",
   "execution_count": 1,
   "metadata": {},
   "outputs": [],
   "source": [
    "def dip_localGradient(image):\n",
    "    # Computes the local gradient of the intensity \n",
    "    # at each pixel as the square root of the sum of the\n",
    "    # squares of the horizontal and vertical derivatives\n",
    "    rows = image.shape[0]\n",
    "    cols = image.shape[1]\n",
    "    Hx = np.array([-1, 0, 1])\n",
    "    Hy = np.array([-1, 0, 1])\n",
    "    derived_img = np.zeros((rows, cols), dtype=int)\n",
    "    \n",
    "    for col in range(0, cols - 1):\n",
    "        for row in range(0, rows - 1):\n",
    "            v_derivative = 0\n",
    "            # vertical derivative\n",
    "            for i in range(-1, 2):\n",
    "                    v = image[row + i, col]  \n",
    "                    v_derivative = v_derivative + (1 / 2) * v * Hy[i + 1]\n",
    "            h_derivative = 0\n",
    "            # horizontal derivative\n",
    "            for j in range(-1, 2):\n",
    "                    v = image[row, col + j]  \n",
    "                    h_derivative = h_derivative + (1 / 2) * v * Hx[j + 1]\n",
    "            \n",
    "            derived_img[row, col] = math.sqrt(h_derivative * h_derivative + v_derivative * v_derivative)  \n",
    "    \n",
    "    return derived_img"
   ]
  },
  {
   "cell_type": "code",
   "execution_count": 2,
   "metadata": {},
   "outputs": [],
   "source": [
    "def dip_localGaussianFilter(image):\n",
    "    # Creates a smoothed image from the input one by computing the\n",
    "    # average value of each pixel from its neighbors' values\n",
    "    H = np.array(((0.075, 0.125, 0.075), (0.125, 0.200, 0.125), (0.075, 0.125, 0.075))) # filter\n",
    "    rows = image.shape[0]\n",
    "    cols = image.shape[1]\n",
    "    smooth_img = np.zeros((rows, cols), dtype=int)\n",
    "    \n",
    "    for col in range(0, cols - 1):\n",
    "        for row in range(0, rows - 1):\n",
    "            sum = 0\n",
    "            for i in range(-1, 2):\n",
    "                for j in range(-1, 2):\n",
    "                    v = image[row + i, col + j] * H[i + 1, j + 1]\n",
    "                    sum = sum + v\n",
    "            smooth_img[row, col] = int(round( sum / 9.0 ))\n",
    "    \n",
    "    return smooth_img"
   ]
  },
  {
   "cell_type": "code",
   "execution_count": 6,
   "metadata": {},
   "outputs": [],
   "source": [
    "def dip_minMaxFilter(image, minimum):\n",
    "    # Creates a smoothed image from the input one by replacing \n",
    "    # the value of each pixel with the minimum(maximun) of its \n",
    "    # neighbors. If minimum = True, it computes the minimum filter\n",
    "    # if minimum = False, it computes the maximum filter.\n",
    "    \n",
    "    rows = image.shape[0]\n",
    "    cols = image.shape[1]\n",
    "    smooth_img = np.zeros((rows, cols), dtype=int)\n",
    "    \n",
    "    for col in range(0, cols - 1):\n",
    "        for row in range(0, rows - 1):\n",
    "            min = 255\n",
    "            max = 0\n",
    "            for i in range(-1, 2):\n",
    "                for j in range(-1, 2):\n",
    "                    v = image[row + i, col + j]\n",
    "                    if minimum:\n",
    "                        if v < min:\n",
    "                            min = v\n",
    "                    else:\n",
    "                        if v > max:\n",
    "                            max = v\n",
    "            if minimum:\n",
    "                smooth_img[row, col] = min\n",
    "            else:\n",
    "                smooth_img[row, col] = max\n",
    "    \n",
    "    return smooth_img"
   ]
  },
  {
   "cell_type": "code",
   "execution_count": null,
   "metadata": {},
   "outputs": [],
   "source": [
    "def dip_threshold(image, threshold, max, min):\n",
    "    rows, cols = image.shape\n",
    "    threshold_image = np.zeros((rows, cols), dtype=int)\n",
    "    for col in np.arange(0, cols, 1):\n",
    "        for row in np.arange(0, rows, 1):\n",
    "            v = image[row, col]\n",
    "            if v > threshold:\n",
    "                threshold_image[row, col] = max\n",
    "            else:\n",
    "                threshold_image[row, col] = min\n",
    "    return threshold_image"
   ]
  },
  {
   "cell_type": "code",
   "execution_count": 7,
   "metadata": {},
   "outputs": [],
   "source": [
    "def dip_line(u1, v1, u2, v2, M, N):\n",
    "    delta_u = u1 - u2\n",
    "    delta_v = v1 - v2\n",
    "    num_pixels = 100 * np.rint(np.sqrt( delta_u * delta_u + delta_v * delta_v )).astype(int)\n",
    "    return dip_linePoints(u1, v1, u2, v2, M, N, num_pixels)"
   ]
  },
  {
   "cell_type": "code",
   "execution_count": 8,
   "metadata": {},
   "outputs": [],
   "source": [
    "def dip_linePoints(u1, v1, u2, v2, M, N, num_pixels):\n",
    "    '''\n",
    "    Creates an MxN image of a line segment given its two endpoints (u1, v1) and (u2, v2)\n",
    "    1) Computes the value of the slope and intercept\n",
    "    2) Computes the value of the segment's u and v as integer variables\n",
    "    3) Creates a 2-dimensional array of points (u, v) of the line\n",
    "    4) Creates a two-dimensional array of the image\n",
    "    5) Adds the points to the empty image\n",
    "    6) Returns the image\n",
    "    '''\n",
    "    U = np.linspace(u1, u2, num_pixels)\n",
    "    V = np.linspace(v1, v2, num_pixels)\n",
    "    slope = 0.0\n",
    "    \n",
    "    if v1 != v2:\n",
    "        slope = (u2 - u1) / (v2 - v1)\n",
    "        intercept = u2 - slope * v2\n",
    "        U = slope * V + intercept\n",
    "    \n",
    "    U = np.rint(U).astype(int) # row index of the line's pixels in the image two-dimensional array\n",
    "    V = np.rint(V).astype(int) # column index of the line's pixels in the image two dimensional array\n",
    "\n",
    "    image = np.zeros((M, N), dtype='int') \n",
    "    for i in range(0, V.shape[0]):\n",
    "        row = U[i]\n",
    "        col = V[i]\n",
    "        image[row, col] = 255\n",
    "    \n",
    "    return image"
   ]
  },
  {
   "cell_type": "code",
   "execution_count": 11,
   "metadata": {},
   "outputs": [],
   "source": [
    "def dip_mean(image):\n",
    "    # Computes the mean of the pixels' values\n",
    "    rows, cols = image.shape\n",
    "    sum = 0.0\n",
    "    for col in np.arange(0, cols, 1):\n",
    "        for row in np.arange(0, rows, 1):\n",
    "            sum = sum + image[row, col]\n",
    "    return sum / (rows * cols)"
   ]
  },
  {
   "cell_type": "code",
   "execution_count": 10,
   "metadata": {},
   "outputs": [],
   "source": [
    "def dip_variance(image):\n",
    "    # Computes the mean of the pixels' values\n",
    "    rows, cols = image.shape\n",
    "    mean = dip_mean(image)\n",
    "    var = 0.0\n",
    "    for col in np.arange(0, cols, 1):\n",
    "        for row in np.arange(0, rows, 1):\n",
    "            var = var + (image[row, col] - mean) * (image[row, col] - mean)\n",
    "    return var / (rows * cols)"
   ]
  },
  {
   "cell_type": "code",
   "execution_count": 14,
   "metadata": {},
   "outputs": [],
   "source": [
    "def dip_histogram(image):\n",
    "    # Computes the histogram of an image\n",
    "    rows, cols = image.shape\n",
    "    h = np.zeros(256, dtype=int)\n",
    "    for col in np.arange(0, cols, 1):\n",
    "        for row in np.arange(0, rows, 1):\n",
    "            v = image[row, col]\n",
    "            h[v] = h[v] + 1\n",
    "    return h"
   ]
  },
  {
   "cell_type": "code",
   "execution_count": 15,
   "metadata": {},
   "outputs": [],
   "source": [
    "def dip_image_dist(image):\n",
    "    rows, cols = image.shape\n",
    "    h = dip_histogram(image)\n",
    "    return h / (rows * cols)"
   ]
  },
  {
   "cell_type": "code",
   "execution_count": 1,
   "metadata": {},
   "outputs": [],
   "source": [
    "def dip_cumulativeHistogram(histogram):\n",
    "    # Computes the cumulative histogram of an image\n",
    "    ch = np.zeros(256, dtype=int)\n",
    "    ch[0] = histogram[0]\n",
    "    for i in np.arange(1, 256, 1):\n",
    "            ch[i] = ch[i - 1] + histogram[i]\n",
    "    return ch"
   ]
  },
  {
   "cell_type": "code",
   "execution_count": 1,
   "metadata": {},
   "outputs": [],
   "source": [
    "def dip_rgb_image_dist(image):\n",
    "    # Computes the histograms of each RGB channels of the input image \n",
    "    rows = image.shape[0]\n",
    "    cols = image.shape[1]\n",
    "    h_r = dip_histogram(image[:,:,0]) / (rows * cols)\n",
    "    h_g = dip_histogram(image[:,:,1]) / (rows * cols)\n",
    "    h_b = dip_histogram(image[:,:,2]) / (rows * cols)\n",
    "    h = np.array((h_r, h_g, h_b))\n",
    "    return h"
   ]
  },
  {
   "cell_type": "code",
   "execution_count": 2,
   "metadata": {},
   "outputs": [],
   "source": [
    "def dip_image_cumulative_dist(image):\n",
    "    # Computes the cumulative histogram of a single channel image\n",
    "    rows, cols = image.shape\n",
    "    histogram = dip_histogram(image)\n",
    "    cumulative_hist = dip_cumulativeHistogram(histogram)\n",
    "    return cumulative_hist / (rows * cols)"
   ]
  },
  {
   "cell_type": "code",
   "execution_count": 3,
   "metadata": {},
   "outputs": [],
   "source": [
    "def dip_rgb_image_cumulative_dist(image):\n",
    "    # Computes the cumulative histograms of each RGB channel of the input image \n",
    "    rows = image.shape[0]\n",
    "    cols = image.shape[1]\n",
    "    h_r = dip_histogram(image[:,:,0]) \n",
    "    h_g = dip_histogram(image[:,:,1]) \n",
    "    h_b = dip_histogram(image[:,:,2])\n",
    "    ch_r = dip_cumulativeHistogram(h_r) / (rows * cols)\n",
    "    ch_g = dip_cumulativeHistogram(h_g) / (rows * cols)\n",
    "    ch_b = dip_cumulativeHistogram(h_b) / (rows * cols)\n",
    "    ch = np.array((ch_r, ch_g, ch_b))\n",
    "    return ch"
   ]
  },
  {
   "cell_type": "code",
   "execution_count": null,
   "metadata": {},
   "outputs": [],
   "source": []
  }
 ],
 "metadata": {
  "kernelspec": {
   "display_name": "Python 3 (ipykernel)",
   "language": "python",
   "name": "python3"
  },
  "language_info": {
   "codemirror_mode": {
    "name": "ipython",
    "version": 3
   },
   "file_extension": ".py",
   "mimetype": "text/x-python",
   "name": "python",
   "nbconvert_exporter": "python",
   "pygments_lexer": "ipython3",
   "version": "3.11.5"
  }
 },
 "nbformat": 4,
 "nbformat_minor": 4
}
